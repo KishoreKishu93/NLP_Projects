{
 "cells": [
  {
   "cell_type": "code",
   "execution_count": 1,
   "id": "5d50d087",
   "metadata": {},
   "outputs": [],
   "source": [
    "from nltk.tokenize import word_tokenize\n",
    "from nltk.stem import PorterStemmer\n",
    "from nltk.stem import WordNetLemmatizer\n",
    "import nltk\n",
    "from nltk.tokenize.toktok import ToktokTokenizer\n",
    "import spacy\n",
    "\n",
    "nlp = spacy.load('en_core_web_sm')\n",
    "tokenizer = ToktokTokenizer()\n"
   ]
  },
  {
   "cell_type": "code",
   "execution_count": 7,
   "id": "2edd2215",
   "metadata": {},
   "outputs": [],
   "source": [
    "import requests\n",
    "from bs4 import BeautifulSoup\n",
    "import pandas as pd\n",
    "import numpy as np\n",
    "import matplotlib.pyplot as plt\n",
    "import seaborn as sns\n"
   ]
  },
  {
   "cell_type": "code",
   "execution_count": 8,
   "id": "d6e036b4",
   "metadata": {},
   "outputs": [],
   "source": [
    "seed_urls = ['https://inshorts.com/en/read/technology',\n",
    "             'https://inshorts.com/en/read/sports',\n",
    "             'https://inshorts.com/en/read/world']\n",
    "\n",
    "def build_dataset(seed_urls):\n",
    "    news_data = []\n",
    "    for url in seed_urls:\n",
    "        news_category = url.split('/')[-1] # technology\n",
    "        data = requests.get(url)\n",
    "        soup = BeautifulSoup(data.content, 'html.parser')\n",
    "        \n",
    "        news_articles = [{'news_headline': headline.find('span', \n",
    "                                                         attrs={\"itemprop\": \"headline\"}).string,\n",
    "                          'news_article': article.find('div', \n",
    "                                                       attrs={\"itemprop\": \"articleBody\"}).string,\n",
    "                          'news_category': news_category}\n",
    "                         \n",
    "                            for headline, article in \n",
    "                             zip(soup.find_all('div', \n",
    "                                               class_=[\"news-card-title news-right-box\"]),\n",
    "                                 soup.find_all('div', \n",
    "                                               class_=[\"news-card-content news-right-box\"]))\n",
    "                        ]\n",
    "        news_data.extend(news_articles)\n",
    "        \n",
    "    df =  pd.DataFrame(news_data)\n",
    "    df = df[['news_headline', 'news_article', 'news_category']]\n",
    "    return df"
   ]
  },
  {
   "cell_type": "code",
   "execution_count": 9,
   "id": "d201b684",
   "metadata": {
    "scrolled": true
   },
   "outputs": [
    {
     "data": {
      "text/html": [
       "<div>\n",
       "<style scoped>\n",
       "    .dataframe tbody tr th:only-of-type {\n",
       "        vertical-align: middle;\n",
       "    }\n",
       "\n",
       "    .dataframe tbody tr th {\n",
       "        vertical-align: top;\n",
       "    }\n",
       "\n",
       "    .dataframe thead th {\n",
       "        text-align: right;\n",
       "    }\n",
       "</style>\n",
       "<table border=\"1\" class=\"dataframe\">\n",
       "  <thead>\n",
       "    <tr style=\"text-align: right;\">\n",
       "      <th></th>\n",
       "      <th>news_headline</th>\n",
       "      <th>news_article</th>\n",
       "      <th>news_category</th>\n",
       "    </tr>\n",
       "  </thead>\n",
       "  <tbody>\n",
       "    <tr>\n",
       "      <th>0</th>\n",
       "      <td>Get your home festive ready with Alexa Smart H...</td>\n",
       "      <td>In the lead-up to Amazon Great Indian Festival...</td>\n",
       "      <td>technology</td>\n",
       "    </tr>\n",
       "    <tr>\n",
       "      <th>1</th>\n",
       "      <td>After camera issue with 3rd party apps, iPhone...</td>\n",
       "      <td>After several iPhone 14 Pro users complained o...</td>\n",
       "      <td>technology</td>\n",
       "    </tr>\n",
       "    <tr>\n",
       "      <th>2</th>\n",
       "      <td>Wipro fires 300 employees found 'Moonlighting'...</td>\n",
       "      <td>Wipro terminated the services of 300 employees...</td>\n",
       "      <td>technology</td>\n",
       "    </tr>\n",
       "    <tr>\n",
       "      <th>3</th>\n",
       "      <td>Violation of integrity in its deepest form: Wi...</td>\n",
       "      <td>Rishad Premji, Chairman of IT major Wipro whic...</td>\n",
       "      <td>technology</td>\n",
       "    </tr>\n",
       "    <tr>\n",
       "      <th>4</th>\n",
       "      <td>YouTuber purposely crashes car to test iPhone ...</td>\n",
       "      <td>'TechRax' YouTube channel's owner Taras Maksim...</td>\n",
       "      <td>technology</td>\n",
       "    </tr>\n",
       "  </tbody>\n",
       "</table>\n",
       "</div>"
      ],
      "text/plain": [
       "                                       news_headline  \\\n",
       "0  Get your home festive ready with Alexa Smart H...   \n",
       "1  After camera issue with 3rd party apps, iPhone...   \n",
       "2  Wipro fires 300 employees found 'Moonlighting'...   \n",
       "3  Violation of integrity in its deepest form: Wi...   \n",
       "4  YouTuber purposely crashes car to test iPhone ...   \n",
       "\n",
       "                                        news_article news_category  \n",
       "0  In the lead-up to Amazon Great Indian Festival...    technology  \n",
       "1  After several iPhone 14 Pro users complained o...    technology  \n",
       "2  Wipro terminated the services of 300 employees...    technology  \n",
       "3  Rishad Premji, Chairman of IT major Wipro whic...    technology  \n",
       "4  'TechRax' YouTube channel's owner Taras Maksim...    technology  "
      ]
     },
     "execution_count": 9,
     "metadata": {},
     "output_type": "execute_result"
    }
   ],
   "source": [
    "news_df = build_dataset(seed_urls)\n",
    "news_df.head()"
   ]
  },
  {
   "cell_type": "code",
   "execution_count": 10,
   "id": "0b34e649",
   "metadata": {},
   "outputs": [
    {
     "data": {
      "text/plain": [
       "(75, 3)"
      ]
     },
     "execution_count": 10,
     "metadata": {},
     "output_type": "execute_result"
    }
   ],
   "source": [
    "news_df.shape"
   ]
  },
  {
   "cell_type": "code",
   "execution_count": 11,
   "id": "09e0ae96",
   "metadata": {},
   "outputs": [
    {
     "data": {
      "text/plain": [
       "technology    25\n",
       "sports        25\n",
       "world         25\n",
       "Name: news_category, dtype: int64"
      ]
     },
     "execution_count": 11,
     "metadata": {},
     "output_type": "execute_result"
    }
   ],
   "source": [
    "news_df['news_category'].value_counts()"
   ]
  },
  {
   "cell_type": "code",
   "execution_count": 12,
   "id": "fce58938",
   "metadata": {},
   "outputs": [
    {
     "data": {
      "text/plain": [
       "news_headline    0\n",
       "news_article     0\n",
       "news_category    0\n",
       "dtype: int64"
      ]
     },
     "execution_count": 12,
     "metadata": {},
     "output_type": "execute_result"
    }
   ],
   "source": [
    "news_df.isna().sum()"
   ]
  },
  {
   "cell_type": "code",
   "execution_count": 1,
   "id": "6c1ad3cd",
   "metadata": {},
   "outputs": [
    {
     "name": "stdout",
     "output_type": "stream",
     "text": [
      "Requirement already satisfied: contractions in c:\\users\\kishore kumar v\\pythonconda\\lib\\site-packages (0.1.72)\n",
      "Requirement already satisfied: textsearch>=0.0.21 in c:\\users\\kishore kumar v\\pythonconda\\lib\\site-packages (from contractions) (0.0.24)\n",
      "Requirement already satisfied: anyascii in c:\\users\\kishore kumar v\\pythonconda\\lib\\site-packages (from textsearch>=0.0.21->contractions) (0.3.1)\n",
      "Requirement already satisfied: pyahocorasick in c:\\users\\kishore kumar v\\pythonconda\\lib\\site-packages (from textsearch>=0.0.21->contractions) (1.4.4)\n"
     ]
    },
    {
     "name": "stderr",
     "output_type": "stream",
     "text": [
      "\n",
      "[notice] A new release of pip available: 22.2.2 -> 22.3.1\n",
      "[notice] To update, run: python.exe -m pip install --upgrade pip\n"
     ]
    },
    {
     "data": {
      "text/plain": [
       "'do not to do'"
      ]
     },
     "execution_count": 1,
     "metadata": {},
     "output_type": "execute_result"
    }
   ],
   "source": [
    "#Contractions are shortened words, \n",
    "#e.g., don’t and can’t. Expanding such words to “do not” and “can not” helps to standardize text.\n",
    "!pip install contractions\n",
    "import contractions\n",
    "def expand_contractions(text):\n",
    "    \"\"\"expand shortened words, e.g. don't to do not\"\"\"\n",
    "    text = contractions.fix(text)\n",
    "    return text\n",
    "expand_contractions('don\\'t to do')"
   ]
  },
  {
   "cell_type": "code",
   "execution_count": 47,
   "id": "422bd468",
   "metadata": {},
   "outputs": [],
   "source": [
    "#Text Preprocessing\n",
    "\n",
    "#1)Remove HTML Tags\n",
    "#------------------------------------------------------------------------------------------\n",
    "def remove_html_tags(text):\n",
    "    soup = BeautifulSoup(text, 'html.parser')\n",
    "    stripped_text = soup.get_text()\n",
    "    return stripped_text\n",
    "#------------------------------------------------------------------------------------------\n",
    "\n",
    "#2)Remove Accended Characters\n",
    "#------------------------------------------------------------------------------------------\n",
    "import unicodedata\n",
    "\n",
    "def remove_accented_chars(text):\n",
    "    text = unicodedata.normalize('NFKD',text).encode('ascii', 'ignore').decode('utf-8', 'ignore')\n",
    "    return text\n",
    "#------------------------------------------------------------------------------------------\n",
    "\n",
    "#3)Remove Special Characters\n",
    "#------------------------------------------------------------------------------------------\n",
    "import re\n",
    "def remove_special_characters(text, remove_digits=False):\n",
    "    pattern='[^a-zA-Z0-9\\s]' if not remove_digits else '[^a-zA-Z\\s]'\n",
    "    text = re.sub(pattern,'',text)\n",
    "    return text\n",
    "\n",
    "#------------------------------------------------------------------------------------------\n",
    "\n",
    "#4)Stemming\n",
    "#------------------------------------------------------------------------------------------\n",
    "def simple_stemmer(text):\n",
    "    ps = nltk.porter.PorterStemmer()\n",
    "    text= ' '.join([ps.stem(word) for word in text.split()])\n",
    "    return text\n",
    "#------------------------------------------------------------------------------------------\n",
    "\n",
    "#5) Lemmatization\n",
    "#------------------------------------------------------------------------------------------\n",
    "#Spacy lemmatize gives more accurate results than the WordNetLemmatizer\n",
    "def lemmatize_text(text):\n",
    "    text = nlp(text)\n",
    "    text = ' '.join([word.lemma_ if word.lemma_ != '-PRON-' else word.text for word in text])\n",
    "    return text\n",
    "\n",
    "# def lemmatize_text_WN(text):\n",
    "#     lem = WordNetLemmatizer()\n",
    "#     text = ' '.join([lem.lemmatize(word.lower(), pos='v') for word in text.split()])\n",
    "#     return text\n",
    "#------------------------------------------------------------------------------------------\n",
    "\n",
    "#6) Remove StopWords\n",
    "#------------------------------------------------------------------------------------------\n",
    "from nltk.corpus import stopwords\n",
    "stopword_list = stopwords.words('english')\n",
    "\n",
    "def remove_stop_words(text, is_lower_case = False):\n",
    "    tokens = tokenizer.tokenize(text)\n",
    "    tokens = [token.strip() for token in tokens]\n",
    "    \n",
    "    if is_lower_case:\n",
    "        filterd_tokens= [token for token in tokens if token not in stopword_list]\n",
    "    else:    \n",
    "        filtered_tokens=[token for token in tokens if token.lower() not in stopword_list]\n",
    "        \n",
    "    filtered_text = ' '.join(filtered_tokens)\n",
    "    return filtered_text\n",
    "#------------------------------------------------------------------------------------------"
   ]
  },
  {
   "cell_type": "code",
   "execution_count": 56,
   "id": "125259ac",
   "metadata": {},
   "outputs": [
    {
     "data": {
      "text/plain": [
       "\"camera issue 3rd party apps , iPhone 14 Pro users complain ' slow ' Camera app\""
      ]
     },
     "execution_count": 56,
     "metadata": {},
     "output_type": "execute_result"
    }
   ],
   "source": [
    "remove_stop_words(\"after camera issue with 3rd party apps, iPhone 14 Pro users complain of 'slow' Camera app\")"
   ]
  },
  {
   "cell_type": "code",
   "execution_count": 31,
   "id": "a6bb3a56",
   "metadata": {},
   "outputs": [
    {
     "data": {
      "text/plain": [
       "'indiae'"
      ]
     },
     "execution_count": 31,
     "metadata": {},
     "output_type": "execute_result"
    }
   ],
   "source": [
    "lemmatize_text(\"Indiaing\") "
   ]
  },
  {
   "cell_type": "code",
   "execution_count": 16,
   "id": "1fc24fb7",
   "metadata": {},
   "outputs": [],
   "source": [
    "#lemmatize_text_WN(\"My system keeps crashing his crashed yesterday, ours crashes daily\") "
   ]
  },
  {
   "cell_type": "code",
   "execution_count": 49,
   "id": "987849ce",
   "metadata": {},
   "outputs": [],
   "source": [
    "#Bring all Functions together\n",
    "def normalize_corpus(corpus,html_stripping=True, \n",
    "                     accented_char_removal=True, text_lower_case=True, \n",
    "                     text_lemmatization=True, special_char_removal=True, \n",
    "                     stopword_removal=True):\n",
    "    \n",
    "    normalized_corpus=[]\n",
    "    # normalize each document in the corpus\n",
    "    for doc in corpus:\n",
    "        #strip HTML\n",
    "        if html_stripping:\n",
    "            doc = remove_html_tags(doc)\n",
    "        #Accended Characters removal    \n",
    "        if accented_char_removal:\n",
    "            doc=remove_accented_chars(doc)\n",
    "        #Special Characters removal     \n",
    "        if special_char_removal:\n",
    "            doc = remove_special_characters(doc, remove_digits=False)\n",
    "        #Lower case    \n",
    "        if text_lower_case:\n",
    "            doc = doc.lower()\n",
    "        # remove extra newlines    \n",
    "        doc = re.sub(r'[\\r|\\n|\\r\\n]+',' ',doc)\n",
    "        #Lemmatize\n",
    "        if text_lemmatization:\n",
    "            doc = lemmatize_text(doc)\n",
    "        #Remove extra white spaces\n",
    "        doc = re.sub(r' +',' ',doc)    \n",
    "        if stopword_removal:\n",
    "            doc = remove_stop_words(doc)\n",
    "        \n",
    "        \n",
    "        normalized_corpus.append(doc)\n",
    "        \n",
    "    return normalized_corpus #Return on For loop exit\n",
    "        "
   ]
  },
  {
   "cell_type": "code",
   "execution_count": 38,
   "id": "25802ebb",
   "metadata": {},
   "outputs": [
    {
     "data": {
      "text/html": [
       "<div>\n",
       "<style scoped>\n",
       "    .dataframe tbody tr th:only-of-type {\n",
       "        vertical-align: middle;\n",
       "    }\n",
       "\n",
       "    .dataframe tbody tr th {\n",
       "        vertical-align: top;\n",
       "    }\n",
       "\n",
       "    .dataframe thead th {\n",
       "        text-align: right;\n",
       "    }\n",
       "</style>\n",
       "<table border=\"1\" class=\"dataframe\">\n",
       "  <thead>\n",
       "    <tr style=\"text-align: right;\">\n",
       "      <th></th>\n",
       "      <th>news_headline</th>\n",
       "      <th>news_article</th>\n",
       "      <th>news_category</th>\n",
       "      <th>Full Text</th>\n",
       "      <th>Clean Text</th>\n",
       "    </tr>\n",
       "  </thead>\n",
       "  <tbody>\n",
       "    <tr>\n",
       "      <th>0</th>\n",
       "      <td>Get your home festive ready with Alexa Smart H...</td>\n",
       "      <td>In the lead-up to Amazon Great Indian Festival...</td>\n",
       "      <td>technology</td>\n",
       "      <td>Get your home festive ready with Alexa Smart H...</td>\n",
       "      <td>get your home festive ready with alexa smart h...</td>\n",
       "    </tr>\n",
       "    <tr>\n",
       "      <th>1</th>\n",
       "      <td>After camera issue with 3rd party apps, iPhone...</td>\n",
       "      <td>After several iPhone 14 Pro users complained o...</td>\n",
       "      <td>technology</td>\n",
       "      <td>After camera issue with 3rd party apps, iPhone...</td>\n",
       "      <td>after camera issue with 3rd party app iphone 1...</td>\n",
       "    </tr>\n",
       "  </tbody>\n",
       "</table>\n",
       "</div>"
      ],
      "text/plain": [
       "                                       news_headline  \\\n",
       "0  Get your home festive ready with Alexa Smart H...   \n",
       "1  After camera issue with 3rd party apps, iPhone...   \n",
       "\n",
       "                                        news_article news_category  \\\n",
       "0  In the lead-up to Amazon Great Indian Festival...    technology   \n",
       "1  After several iPhone 14 Pro users complained o...    technology   \n",
       "\n",
       "                                           Full Text  \\\n",
       "0  Get your home festive ready with Alexa Smart H...   \n",
       "1  After camera issue with 3rd party apps, iPhone...   \n",
       "\n",
       "                                          Clean Text  \n",
       "0  get your home festive ready with alexa smart h...  \n",
       "1  after camera issue with 3rd party app iphone 1...  "
      ]
     },
     "execution_count": 38,
     "metadata": {},
     "output_type": "execute_result"
    }
   ],
   "source": [
    "news_df.head(2)\n"
   ]
  },
  {
   "cell_type": "code",
   "execution_count": 50,
   "id": "fc98dfd8",
   "metadata": {},
   "outputs": [],
   "source": [
    "# combining headline and article text\n",
    "news_df['Full Text'] = news_df['news_headline'] + '. ' + news_df['news_article']"
   ]
  },
  {
   "cell_type": "code",
   "execution_count": 51,
   "id": "e7376312",
   "metadata": {},
   "outputs": [
    {
     "data": {
      "text/plain": [
       "'Get your home festive ready with Alexa Smart Home Combo: Amazon. In the lead-up to Amazon Great Indian Festival, Amazon has announced that customers can convert their homes into smart homes with Alexa Smart Home combos starting at ₹1799. With the festival beginning from 23rd September, the brand aims to encourage people to get their wishlist ready before the sale.'"
      ]
     },
     "execution_count": 51,
     "metadata": {},
     "output_type": "execute_result"
    }
   ],
   "source": [
    "news_df['Full Text'][0]"
   ]
  },
  {
   "cell_type": "code",
   "execution_count": 52,
   "id": "a32a95d8",
   "metadata": {},
   "outputs": [],
   "source": [
    "# pre-process text and store the same\n",
    "news_df['Clean Text'] = normalize_corpus(news_df['Full Text'])"
   ]
  },
  {
   "cell_type": "code",
   "execution_count": 60,
   "id": "adfbd90c",
   "metadata": {
    "scrolled": true
   },
   "outputs": [
    {
     "data": {
      "text/plain": [
       "{'Full Text': 'Get your home festive ready with Alexa Smart Home Combo: Amazon. In the lead-up to Amazon Great Indian Festival, Amazon has announced that customers can convert their homes into smart homes with Alexa Smart Home combos starting at ₹1799. With the festival beginning from 23rd September, the brand aims to encourage people to get their wishlist ready before the sale.',\n",
       " 'Clean Text': 'get home festive ready alexa smart home combo amazon leadup amazon great indian festival amazon announce customer convert home smart home alexa smart home combo start 1799 festival begin 23rd september brand aim encourage people get wishlist ready sale'}"
      ]
     },
     "execution_count": 60,
     "metadata": {},
     "output_type": "execute_result"
    }
   ],
   "source": [
    "news_df.iloc[0][['Full Text','Clean Text']].to_dict()"
   ]
  },
  {
   "cell_type": "code",
   "execution_count": 61,
   "id": "80a048d5",
   "metadata": {},
   "outputs": [],
   "source": [
    "news_df.to_csv('news.csv', index=False, encoding='utf-8')"
   ]
  },
  {
   "cell_type": "code",
   "execution_count": 62,
   "id": "77433ba8",
   "metadata": {},
   "outputs": [],
   "source": [
    "corpus = news_df['Clean Text']"
   ]
  },
  {
   "cell_type": "code",
   "execution_count": 98,
   "id": "242b1268",
   "metadata": {},
   "outputs": [
    {
     "data": {
      "text/html": [
       "<div>\n",
       "<style scoped>\n",
       "    .dataframe tbody tr th:only-of-type {\n",
       "        vertical-align: middle;\n",
       "    }\n",
       "\n",
       "    .dataframe tbody tr th {\n",
       "        vertical-align: top;\n",
       "    }\n",
       "\n",
       "    .dataframe thead tr th {\n",
       "        text-align: left;\n",
       "    }\n",
       "\n",
       "    .dataframe thead tr:last-of-type th {\n",
       "        text-align: right;\n",
       "    }\n",
       "</style>\n",
       "<table border=\"1\" class=\"dataframe\">\n",
       "  <thead>\n",
       "    <tr>\n",
       "      <th></th>\n",
       "      <th colspan=\"8\" halign=\"left\">sentiment_scores</th>\n",
       "    </tr>\n",
       "    <tr>\n",
       "      <th></th>\n",
       "      <th>count</th>\n",
       "      <th>mean</th>\n",
       "      <th>std</th>\n",
       "      <th>min</th>\n",
       "      <th>25%</th>\n",
       "      <th>50%</th>\n",
       "      <th>75%</th>\n",
       "      <th>max</th>\n",
       "    </tr>\n",
       "    <tr>\n",
       "      <th>news_category</th>\n",
       "      <th></th>\n",
       "      <th></th>\n",
       "      <th></th>\n",
       "      <th></th>\n",
       "      <th></th>\n",
       "      <th></th>\n",
       "      <th></th>\n",
       "      <th></th>\n",
       "    </tr>\n",
       "  </thead>\n",
       "  <tbody>\n",
       "    <tr>\n",
       "      <th>sports</th>\n",
       "      <td>25.0</td>\n",
       "      <td>4.16</td>\n",
       "      <td>6.128349</td>\n",
       "      <td>-6.0</td>\n",
       "      <td>0.0</td>\n",
       "      <td>3.0</td>\n",
       "      <td>7.0</td>\n",
       "      <td>18.0</td>\n",
       "    </tr>\n",
       "    <tr>\n",
       "      <th>technology</th>\n",
       "      <td>25.0</td>\n",
       "      <td>-0.88</td>\n",
       "      <td>6.495640</td>\n",
       "      <td>-18.0</td>\n",
       "      <td>-4.0</td>\n",
       "      <td>-1.0</td>\n",
       "      <td>2.0</td>\n",
       "      <td>11.0</td>\n",
       "    </tr>\n",
       "    <tr>\n",
       "      <th>world</th>\n",
       "      <td>25.0</td>\n",
       "      <td>-3.32</td>\n",
       "      <td>5.956229</td>\n",
       "      <td>-14.0</td>\n",
       "      <td>-6.0</td>\n",
       "      <td>-4.0</td>\n",
       "      <td>-1.0</td>\n",
       "      <td>11.0</td>\n",
       "    </tr>\n",
       "  </tbody>\n",
       "</table>\n",
       "</div>"
      ],
      "text/plain": [
       "              sentiment_scores                                           \n",
       "                         count  mean       std   min  25%  50%  75%   max\n",
       "news_category                                                            \n",
       "sports                    25.0  4.16  6.128349  -6.0  0.0  3.0  7.0  18.0\n",
       "technology                25.0 -0.88  6.495640 -18.0 -4.0 -1.0  2.0  11.0\n",
       "world                     25.0 -3.32  5.956229 -14.0 -6.0 -4.0 -1.0  11.0"
      ]
     },
     "execution_count": 98,
     "metadata": {},
     "output_type": "execute_result"
    }
   ],
   "source": [
    "#Lexion Based, Sentiment Analysis\n",
    "from afinn import Afinn\n",
    "af = Afinn()\n",
    "\n",
    "# compute sentiment scores (polarity) and labels\n",
    "sentiment_scores = [af.score(article) for article in corpus]\n",
    "sentiment_category=['Positive' if score >0 \n",
    "                        else 'Negative' if score <0 \n",
    "                           else 'neutral' \n",
    "                                for score in sentiment_scores]\n",
    "\n",
    "# sentiment statistics per news category\n",
    "df=pd.DataFrame([list(news_df['news_category']), sentiment_scores, sentiment_category]).T\n",
    "df.columns=['news_category', 'sentiment_scores', 'sentiment_category'] \n",
    "df['sentiment_scores']= df.sentiment_scores.astype('float')\n",
    "df.groupby(df['news_category']).describe()"
   ]
  },
  {
   "cell_type": "code",
   "execution_count": 81,
   "id": "ff17c7b3",
   "metadata": {
    "scrolled": true
   },
   "outputs": [
    {
     "data": {
      "text/html": [
       "<div>\n",
       "<style scoped>\n",
       "    .dataframe tbody tr th:only-of-type {\n",
       "        vertical-align: middle;\n",
       "    }\n",
       "\n",
       "    .dataframe tbody tr th {\n",
       "        vertical-align: top;\n",
       "    }\n",
       "\n",
       "    .dataframe thead th {\n",
       "        text-align: right;\n",
       "    }\n",
       "</style>\n",
       "<table border=\"1\" class=\"dataframe\">\n",
       "  <thead>\n",
       "    <tr style=\"text-align: right;\">\n",
       "      <th></th>\n",
       "      <th>news_category</th>\n",
       "      <th>sentiment_scores</th>\n",
       "      <th>sentiment_category</th>\n",
       "    </tr>\n",
       "  </thead>\n",
       "  <tbody>\n",
       "    <tr>\n",
       "      <th>0</th>\n",
       "      <td>technology</td>\n",
       "      <td>10.0</td>\n",
       "      <td>Positive</td>\n",
       "    </tr>\n",
       "    <tr>\n",
       "      <th>1</th>\n",
       "      <td>technology</td>\n",
       "      <td>-6.0</td>\n",
       "      <td>Negative</td>\n",
       "    </tr>\n",
       "    <tr>\n",
       "      <th>2</th>\n",
       "      <td>technology</td>\n",
       "      <td>-2.0</td>\n",
       "      <td>Negative</td>\n",
       "    </tr>\n",
       "    <tr>\n",
       "      <th>3</th>\n",
       "      <td>technology</td>\n",
       "      <td>-1.0</td>\n",
       "      <td>Negative</td>\n",
       "    </tr>\n",
       "    <tr>\n",
       "      <th>4</th>\n",
       "      <td>technology</td>\n",
       "      <td>-18.0</td>\n",
       "      <td>Negative</td>\n",
       "    </tr>\n",
       "  </tbody>\n",
       "</table>\n",
       "</div>"
      ],
      "text/plain": [
       "  news_category sentiment_scores sentiment_category\n",
       "0    technology             10.0           Positive\n",
       "1    technology             -6.0           Negative\n",
       "2    technology             -2.0           Negative\n",
       "3    technology             -1.0           Negative\n",
       "4    technology            -18.0           Negative"
      ]
     },
     "execution_count": 81,
     "metadata": {},
     "output_type": "execute_result"
    }
   ],
   "source": [
    "df.head()"
   ]
  },
  {
   "cell_type": "code",
   "execution_count": 102,
   "id": "61025bfb",
   "metadata": {},
   "outputs": [
    {
     "name": "stderr",
     "output_type": "stream",
     "text": [
      "C:\\Users\\Kishore kumar V\\pythonconda\\lib\\site-packages\\seaborn\\categorical.py:3717: UserWarning: The `factorplot` function has been renamed to `catplot`. The original name will be removed in a future release. Please update your code. Note that the default `kind` in `factorplot` (`'point'`) has changed `'strip'` in `catplot`.\n",
      "  warnings.warn(msg)\n"
     ]
    },
    {
     "data": {
      "image/png": "[encoded data removed]",
      "text/plain": [
       "<Figure size 467.5x360 with 1 Axes>"
      ]
     },
     "metadata": {
      "needs_background": "light"
     },
     "output_type": "display_data"
    }
   ],
   "source": [
    "fc = sns.factorplot(x='news_category', hue='sentiment_category',\n",
    "                    data = df, kind=\"count\")"
   ]
  },
  {
   "cell_type": "code",
   "execution_count": 117,
   "id": "7f79eacd",
   "metadata": {},
   "outputs": [],
   "source": [
    "pos_indx = df[(df.news_category == 'technology')  & (df.sentiment_scores == 11.0)].index[0]\n",
    "neg_indx=df[(df.news_category == 'technology') & (df.sentiment_scores == -6.0)].index[0]\n"
   ]
  },
  {
   "cell_type": "code",
   "execution_count": 125,
   "id": "316609b8",
   "metadata": {},
   "outputs": [
    {
     "name": "stdout",
     "output_type": "stream",
     "text": [
      "Most positive news:  RBI is not interested in penalising fintechs or stifling innovation but wants them to follow the rules of the game, Governor Shaktikanta Das said on Tuesday. \"RBI will continue to be supportive of [digital lending] and will welcome it. We will, in fact, go two steps forward to discuss with you if you just take one step forward,\" Das added.\n",
      "\n",
      "Most Negative News:  After several iPhone 14 Pro users complained of camera issue while using third-party apps, several users have now complained of 'slow' Camera app. Users have suggested that the camera takes several seconds to load when the app is opened. The iOS 16.0.1 update does not appear to fix the issue for those who are impacted.\n"
     ]
    }
   ],
   "source": [
    "print('Most positive news: ' , news_df.iloc[pos_indx][['news_article']][0])\n",
    "print()\n",
    "print('Most Negative News: ' , news_df.iloc[neg_indx][['news_article']][0])\n"
   ]
  }
 ],
 "metadata": {
  "kernelspec": {
   "display_name": "Python 3 (ipykernel)",
   "language": "python",
   "name": "python3"
  },
  "language_info": {
   "codemirror_mode": {
    "name": "ipython",
    "version": 3
   },
   "file_extension": ".py",
   "mimetype": "text/x-python",
   "name": "python",
   "nbconvert_exporter": "python",
   "pygments_lexer": "ipython3",
   "version": "3.9.12"
  }
 },
 "nbformat": 4,
 "nbformat_minor": 5
}
